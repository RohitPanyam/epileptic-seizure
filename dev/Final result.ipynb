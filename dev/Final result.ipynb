{
 "cells": [
  {
   "cell_type": "markdown",
   "id": "f2f1eba4",
   "metadata": {},
   "source": [
    "## Predection and .json creater"
   ]
  },
  {
   "cell_type": "code",
   "execution_count": 28,
   "id": "3bda7f65",
   "metadata": {},
   "outputs": [],
   "source": [
    "from keras.models import load_model\n",
    "import tensorflow as tf\n",
    "import numpy as np\n",
    "from keras.models import Sequential\n",
    "from keras.utils import np_utils\n",
    "from keras.layers import Dense, Activation , LSTM , Dropout , AveragePooling3D\n",
    "import pandas as pd\n",
    "import json\n",
    "import shutil\n",
    "import urllib\n",
    "\n",
    "import matplotlib.pyplot as plt\n",
    "from os import listdir\n",
    "from os.path import isfile, join\n",
    "import os\n",
    "from pathlib import Path\n"
   ]
  },
  {
   "cell_type": "code",
   "execution_count": 30,
   "id": "6765eef7",
   "metadata": {},
   "outputs": [],
   "source": [
    "# !pip install pytest-shutil\n",
    "# deleting data info\n",
    "loc = \"test_reso/\"\n",
    "shutil.rmtree(loc)\n",
    "os.mkdir(loc)"
   ]
  },
  {
   "cell_type": "code",
   "execution_count": 14,
   "id": "f90ef31b",
   "metadata": {},
   "outputs": [
    {
     "name": "stderr",
     "output_type": "stream",
     "text": [
      "2021-11-24 01:20:46.174670: I tensorflow/core/platform/cpu_feature_guard.cc:151] This TensorFlow binary is optimized with oneAPI Deep Neural Network Library (oneDNN) to use the following CPU instructions in performance-critical operations:  AVX2 FMA\n",
      "To enable them in other operations, rebuild TensorFlow with the appropriate compiler flags.\n"
     ]
    }
   ],
   "source": [
    "model = load_model('Epilepsy.h5') #this folder has been saved fron the model we ran in the model ipy file"
   ]
  },
  {
   "cell_type": "code",
   "execution_count": 32,
   "id": "0ed67d9e",
   "metadata": {},
   "outputs": [
    {
     "name": "stdout",
     "output_type": "stream",
     "text": [
      "test_reso/test_data.csv\n"
     ]
    }
   ],
   "source": [
    "dirs = listdir(location)\n",
    "path = Path(loc+dirs[0])\n",
    "print(path)"
   ]
  },
  {
   "cell_type": "code",
   "execution_count": 38,
   "id": "e42e9e63",
   "metadata": {},
   "outputs": [
    {
     "data": {
      "text/html": [
       "<div>\n",
       "<style scoped>\n",
       "    .dataframe tbody tr th:only-of-type {\n",
       "        vertical-align: middle;\n",
       "    }\n",
       "\n",
       "    .dataframe tbody tr th {\n",
       "        vertical-align: top;\n",
       "    }\n",
       "\n",
       "    .dataframe thead th {\n",
       "        text-align: right;\n",
       "    }\n",
       "</style>\n",
       "<table border=\"1\" class=\"dataframe\">\n",
       "  <thead>\n",
       "    <tr style=\"text-align: right;\">\n",
       "      <th></th>\n",
       "      <th>Unnamed: 0</th>\n",
       "      <th>Unnamed: 1</th>\n",
       "      <th>Unnamed: 2</th>\n",
       "      <th>Unnamed: 3</th>\n",
       "      <th>X4</th>\n",
       "      <th>X5</th>\n",
       "      <th>X6</th>\n",
       "      <th>X7</th>\n",
       "      <th>X8</th>\n",
       "      <th>X9</th>\n",
       "      <th>...</th>\n",
       "      <th>X170</th>\n",
       "      <th>X171</th>\n",
       "      <th>X172</th>\n",
       "      <th>X173</th>\n",
       "      <th>X174</th>\n",
       "      <th>X175</th>\n",
       "      <th>X176</th>\n",
       "      <th>X177</th>\n",
       "      <th>X178</th>\n",
       "      <th>y</th>\n",
       "    </tr>\n",
       "  </thead>\n",
       "  <tbody>\n",
       "    <tr>\n",
       "      <th>0</th>\n",
       "      <td>X21.V1.791</td>\n",
       "      <td>135</td>\n",
       "      <td>190</td>\n",
       "      <td>229</td>\n",
       "      <td>223</td>\n",
       "      <td>192</td>\n",
       "      <td>125</td>\n",
       "      <td>55</td>\n",
       "      <td>-9</td>\n",
       "      <td>-33</td>\n",
       "      <td>...</td>\n",
       "      <td>-17</td>\n",
       "      <td>-15</td>\n",
       "      <td>-31</td>\n",
       "      <td>-77</td>\n",
       "      <td>-103</td>\n",
       "      <td>-127</td>\n",
       "      <td>-116</td>\n",
       "      <td>-83</td>\n",
       "      <td>-51</td>\n",
       "      <td>4</td>\n",
       "    </tr>\n",
       "  </tbody>\n",
       "</table>\n",
       "<p>1 rows × 180 columns</p>\n",
       "</div>"
      ],
      "text/plain": [
       "   Unnamed: 0  Unnamed: 1  Unnamed: 2  Unnamed: 3   X4   X5   X6  X7  X8  X9  \\\n",
       "0  X21.V1.791         135         190         229  223  192  125  55  -9 -33   \n",
       "\n",
       "   ...  X170  X171  X172  X173  X174  X175  X176  X177  X178  y  \n",
       "0  ...   -17   -15   -31   -77  -103  -127  -116   -83   -51  4  \n",
       "\n",
       "[1 rows x 180 columns]"
      ]
     },
     "execution_count": 38,
     "metadata": {},
     "output_type": "execute_result"
    }
   ],
   "source": [
    "df=pd.read_csv(path)\n",
    "df.head()"
   ]
  },
  {
   "cell_type": "code",
   "execution_count": 60,
   "id": "97c39095",
   "metadata": {},
   "outputs": [],
   "source": [
    "# X=df.drop(['y'],axis=1)\n",
    "X=df.values\n",
    "X=X[:,1:-1]\n",
    "X = np.asarray(X).astype(np.float32)\n",
    "# X=X[:,1:-1]"
   ]
  },
  {
   "cell_type": "code",
   "execution_count": 61,
   "id": "29492af0",
   "metadata": {},
   "outputs": [],
   "source": [
    "y=np.array(df['y'])\n",
    "Y=np_utils.to_categorical(y)\n"
   ]
  },
  {
   "cell_type": "code",
   "execution_count": 62,
   "id": "d8170067",
   "metadata": {},
   "outputs": [],
   "source": [
    "y_pred = model.predict((X[:,::4]-X.mean())/X.std())"
   ]
  },
  {
   "cell_type": "code",
   "execution_count": 63,
   "id": "34f0d361",
   "metadata": {},
   "outputs": [],
   "source": [
    "yp=np.zeros((Y.shape[0]))\n",
    "yo=np.ones((Y.shape[0]))\n",
    "for i in range(Y.shape[0]):\n",
    "    yp[i]=np.argmax(y_pred[i])+1\n",
    "    yo[i]=np.argmax(Y[i])"
   ]
  },
  {
   "cell_type": "code",
   "execution_count": 71,
   "id": "68d55191",
   "metadata": {
    "scrolled": true
   },
   "outputs": [],
   "source": [
    "res_final = yp[0]"
   ]
  },
  {
   "cell_type": "code",
   "execution_count": 79,
   "id": "b7664427",
   "metadata": {},
   "outputs": [],
   "source": [
    "arr=[]\n",
    "out_path = \"Out/\"\n",
    "if res_final == 1.0:\n",
    "    res = \"Yes\"\n",
    "else:\n",
    "    res = \"No\"\n",
    "# json file input\n",
    "j_dict = {\n",
    "         \"result\" : res\n",
    "    }\n",
    "arr.append(j_dict)\n",
    "json_object = json.dumps(arr, indent = 4)\n",
    "\n",
    "with open(\"out.json\", \"w\") as outfile:\n",
    "      outfile.write(json_object)"
   ]
  },
  {
   "cell_type": "code",
   "execution_count": null,
   "id": "37cd57a1",
   "metadata": {},
   "outputs": [],
   "source": []
  }
 ],
 "metadata": {
  "kernelspec": {
   "display_name": "Python 3 (ipykernel)",
   "language": "python",
   "name": "python3"
  },
  "language_info": {
   "codemirror_mode": {
    "name": "ipython",
    "version": 3
   },
   "file_extension": ".py",
   "mimetype": "text/x-python",
   "name": "python",
   "nbconvert_exporter": "python",
   "pygments_lexer": "ipython3",
   "version": "3.8.12"
  }
 },
 "nbformat": 4,
 "nbformat_minor": 5
}
